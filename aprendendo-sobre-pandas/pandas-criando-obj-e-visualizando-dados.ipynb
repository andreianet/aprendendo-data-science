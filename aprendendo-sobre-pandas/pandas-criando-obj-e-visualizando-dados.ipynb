{
 "cells": [
  {
   "cell_type": "markdown",
   "metadata": {},
   "source": [
    "**INTRODUÇÃO AO PANDAS**\n",
    "\n",
    "Pandas é um pacote em Pyhton que fornece estruturas de dados rápido, flexível e expressivas. Projetadas para facilitar o trabalho com dados \"relacionais\" ou \"rotulados\". Pandas é adequado para dados tabulares, dados de Series temporais ordenados e não ordenados, dados da matriz arbitária(com rótulos de linhas e colunas)...As duas estruturas de dados principais dos pandas Series(unidimensionais) e DataFrame(bidimensionais) lidam com a grande maioria dos casos de uso típicos em finanças, estatística, ciências sociais e muitas áreas da engenharia.\n",
    "\n",
    "FONTE:https://pandas.pydata.org/docs/getting_started/overview.html"
   ]
  },
  {
   "cell_type": "code",
   "execution_count": 20,
   "metadata": {},
   "outputs": [],
   "source": [
    "#imports\n",
    "import pandas as pd\n",
    "import numpy as np"
   ]
  },
  {
   "cell_type": "markdown",
   "metadata": {},
   "source": [
    "**CRIANDO OBJETO**"
   ]
  },
  {
   "cell_type": "code",
   "execution_count": 21,
   "metadata": {},
   "outputs": [],
   "source": [
    "#CRIANDO UMA SERIES, E PASSANDO UMA LISTA DE VALORES, PERMITINDO QUE O PANDAS CRIE UM INDICE INTEIRO PADRONIZADO\n",
    "s = pd.Series([1,2,3,np.nan,6,8])"
   ]
  },
  {
   "cell_type": "code",
   "execution_count": 22,
   "metadata": {},
   "outputs": [
    {
     "name": "stdout",
     "output_type": "stream",
     "text": [
      "0    1.0\n",
      "1    2.0\n",
      "2    3.0\n",
      "3    NaN\n",
      "4    6.0\n",
      "5    8.0\n",
      "dtype: float64\n"
     ]
    }
   ],
   "source": [
    "print(s)  #ou somente s"
   ]
  },
  {
   "cell_type": "code",
   "execution_count": 23,
   "metadata": {},
   "outputs": [
    {
     "data": {
      "text/plain": [
       "DatetimeIndex(['2020-01-01', '2020-01-02', '2020-01-03', '2020-01-04',\n",
       "               '2020-01-05', '2020-01-06'],\n",
       "              dtype='datetime64[ns]', freq='D')"
      ]
     },
     "execution_count": 23,
     "metadata": {},
     "output_type": "execute_result"
    }
   ],
   "source": [
    "#CRIANDO UM DATAFRAME, PASSANDO UMA MATRIZ(NUMPY), COM UM INDICE DE DATA, HORA E COLUNAS ROTULADAS\n",
    "dates = pd.date_range('20200101', periods=6)\n",
    "dates"
   ]
  },
  {
   "cell_type": "code",
   "execution_count": 24,
   "metadata": {},
   "outputs": [
    {
     "data": {
      "text/html": [
       "<div>\n",
       "<style scoped>\n",
       "    .dataframe tbody tr th:only-of-type {\n",
       "        vertical-align: middle;\n",
       "    }\n",
       "\n",
       "    .dataframe tbody tr th {\n",
       "        vertical-align: top;\n",
       "    }\n",
       "\n",
       "    .dataframe thead th {\n",
       "        text-align: right;\n",
       "    }\n",
       "</style>\n",
       "<table border=\"1\" class=\"dataframe\">\n",
       "  <thead>\n",
       "    <tr style=\"text-align: right;\">\n",
       "      <th></th>\n",
       "      <th>A</th>\n",
       "      <th>B</th>\n",
       "      <th>C</th>\n",
       "      <th>D</th>\n",
       "    </tr>\n",
       "  </thead>\n",
       "  <tbody>\n",
       "    <tr>\n",
       "      <th>2020-01-01</th>\n",
       "      <td>-1.599227</td>\n",
       "      <td>-3.954682</td>\n",
       "      <td>-1.935948</td>\n",
       "      <td>-2.358089</td>\n",
       "    </tr>\n",
       "    <tr>\n",
       "      <th>2020-01-02</th>\n",
       "      <td>0.655268</td>\n",
       "      <td>-0.913605</td>\n",
       "      <td>1.131768</td>\n",
       "      <td>0.688690</td>\n",
       "    </tr>\n",
       "    <tr>\n",
       "      <th>2020-01-03</th>\n",
       "      <td>1.174306</td>\n",
       "      <td>-1.645058</td>\n",
       "      <td>-2.267937</td>\n",
       "      <td>0.263099</td>\n",
       "    </tr>\n",
       "    <tr>\n",
       "      <th>2020-01-04</th>\n",
       "      <td>-0.043774</td>\n",
       "      <td>-0.174847</td>\n",
       "      <td>0.831408</td>\n",
       "      <td>0.414425</td>\n",
       "    </tr>\n",
       "    <tr>\n",
       "      <th>2020-01-05</th>\n",
       "      <td>-0.049230</td>\n",
       "      <td>0.622479</td>\n",
       "      <td>-1.367243</td>\n",
       "      <td>-0.000274</td>\n",
       "    </tr>\n",
       "    <tr>\n",
       "      <th>2020-01-06</th>\n",
       "      <td>0.723707</td>\n",
       "      <td>2.657475</td>\n",
       "      <td>-0.305881</td>\n",
       "      <td>-0.460423</td>\n",
       "    </tr>\n",
       "  </tbody>\n",
       "</table>\n",
       "</div>"
      ],
      "text/plain": [
       "                   A         B         C         D\n",
       "2020-01-01 -1.599227 -3.954682 -1.935948 -2.358089\n",
       "2020-01-02  0.655268 -0.913605  1.131768  0.688690\n",
       "2020-01-03  1.174306 -1.645058 -2.267937  0.263099\n",
       "2020-01-04 -0.043774 -0.174847  0.831408  0.414425\n",
       "2020-01-05 -0.049230  0.622479 -1.367243 -0.000274\n",
       "2020-01-06  0.723707  2.657475 -0.305881 -0.460423"
      ]
     },
     "execution_count": 24,
     "metadata": {},
     "output_type": "execute_result"
    }
   ],
   "source": [
    "df = pd.DataFrame(np.random.randn(6,4), index=dates, columns=list('ABCD'))\n",
    "df"
   ]
  },
  {
   "cell_type": "code",
   "execution_count": 25,
   "metadata": {},
   "outputs": [
    {
     "data": {
      "text/html": [
       "<div>\n",
       "<style scoped>\n",
       "    .dataframe tbody tr th:only-of-type {\n",
       "        vertical-align: middle;\n",
       "    }\n",
       "\n",
       "    .dataframe tbody tr th {\n",
       "        vertical-align: top;\n",
       "    }\n",
       "\n",
       "    .dataframe thead th {\n",
       "        text-align: right;\n",
       "    }\n",
       "</style>\n",
       "<table border=\"1\" class=\"dataframe\">\n",
       "  <thead>\n",
       "    <tr style=\"text-align: right;\">\n",
       "      <th></th>\n",
       "      <th>A</th>\n",
       "      <th>B</th>\n",
       "      <th>C</th>\n",
       "      <th>D</th>\n",
       "      <th>E</th>\n",
       "      <th>F</th>\n",
       "    </tr>\n",
       "  </thead>\n",
       "  <tbody>\n",
       "    <tr>\n",
       "      <th>0</th>\n",
       "      <td>1.0</td>\n",
       "      <td>2020-01-02</td>\n",
       "      <td>1.0</td>\n",
       "      <td>3</td>\n",
       "      <td>test</td>\n",
       "      <td>foo</td>\n",
       "    </tr>\n",
       "    <tr>\n",
       "      <th>1</th>\n",
       "      <td>1.0</td>\n",
       "      <td>2020-01-02</td>\n",
       "      <td>1.0</td>\n",
       "      <td>3</td>\n",
       "      <td>train</td>\n",
       "      <td>foo</td>\n",
       "    </tr>\n",
       "    <tr>\n",
       "      <th>2</th>\n",
       "      <td>1.0</td>\n",
       "      <td>2020-01-02</td>\n",
       "      <td>1.0</td>\n",
       "      <td>3</td>\n",
       "      <td>test</td>\n",
       "      <td>foo</td>\n",
       "    </tr>\n",
       "    <tr>\n",
       "      <th>3</th>\n",
       "      <td>1.0</td>\n",
       "      <td>2020-01-02</td>\n",
       "      <td>1.0</td>\n",
       "      <td>3</td>\n",
       "      <td>train</td>\n",
       "      <td>foo</td>\n",
       "    </tr>\n",
       "  </tbody>\n",
       "</table>\n",
       "</div>"
      ],
      "text/plain": [
       "     A          B    C  D      E    F\n",
       "0  1.0 2020-01-02  1.0  3   test  foo\n",
       "1  1.0 2020-01-02  1.0  3  train  foo\n",
       "2  1.0 2020-01-02  1.0  3   test  foo\n",
       "3  1.0 2020-01-02  1.0  3  train  foo"
      ]
     },
     "execution_count": 25,
     "metadata": {},
     "output_type": "execute_result"
    }
   ],
   "source": [
    "#CRIANDO OUTRO DATAFRAME - CONVERTENDO PARA SERIES\n",
    "df2 = pd.DataFrame({'A': 1.,\n",
    "                    'B': pd.Timestamp('20200102'),\n",
    "                    'C': pd.Series(1, index=list(range(4)), dtype='float32'),\n",
    "                    'D': np.array([3] *4, dtype='int32'),\n",
    "                    'E': pd.Categorical([\"test\", \"train\", \"test\", \"train\"]),\n",
    "                    'F': 'foo'})\n",
    "df2"
   ]
  },
  {
   "cell_type": "code",
   "execution_count": 26,
   "metadata": {},
   "outputs": [
    {
     "data": {
      "text/plain": [
       "A           float64\n",
       "B    datetime64[ns]\n",
       "C           float32\n",
       "D             int32\n",
       "E          category\n",
       "F            object\n",
       "dtype: object"
      ]
     },
     "execution_count": 26,
     "metadata": {},
     "output_type": "execute_result"
    }
   ],
   "source": [
    "#COLUNA NO DATAFRAME, APRESENTANDO DIFERENTES TIPOS\n",
    "df2.dtypes\n"
   ]
  },
  {
   "cell_type": "code",
   "execution_count": 27,
   "metadata": {},
   "outputs": [
    {
     "data": {
      "text/plain": [
       "0    1.0\n",
       "1    1.0\n",
       "2    1.0\n",
       "3    1.0\n",
       "Name: A, dtype: float64"
      ]
     },
     "execution_count": 27,
     "metadata": {},
     "output_type": "execute_result"
    }
   ],
   "source": [
    "#SUBCONJUNTO DS ATRIBUTOS \n",
    "#df2.A                  df2.bool\n",
    "#df2.abs                df2.boxplot\n",
    "#df2.add                df2.C\n",
    "#df2.add_prefix         df2.clip\n",
    "#df2.add_suffix         df2.clip_lower\n",
    "#df2.align              df2.clip_upper\n",
    "#df2.all                df2.columns\n",
    "#df2.any                df2.combine\n",
    "#df2.append             df2.combine_first\n",
    "#df2.apply              df2.consolidate\n",
    "#df2.applymap\n",
    "#df2.D\n",
    "#exemplo:\n",
    "df2.A"
   ]
  },
  {
   "cell_type": "markdown",
   "metadata": {},
   "source": [
    "**VISUALIZANDO DADOS**"
   ]
  },
  {
   "cell_type": "code",
   "execution_count": 28,
   "metadata": {},
   "outputs": [
    {
     "data": {
      "text/html": [
       "<div>\n",
       "<style scoped>\n",
       "    .dataframe tbody tr th:only-of-type {\n",
       "        vertical-align: middle;\n",
       "    }\n",
       "\n",
       "    .dataframe tbody tr th {\n",
       "        vertical-align: top;\n",
       "    }\n",
       "\n",
       "    .dataframe thead th {\n",
       "        text-align: right;\n",
       "    }\n",
       "</style>\n",
       "<table border=\"1\" class=\"dataframe\">\n",
       "  <thead>\n",
       "    <tr style=\"text-align: right;\">\n",
       "      <th></th>\n",
       "      <th>A</th>\n",
       "      <th>B</th>\n",
       "      <th>C</th>\n",
       "      <th>D</th>\n",
       "    </tr>\n",
       "  </thead>\n",
       "  <tbody>\n",
       "    <tr>\n",
       "      <th>2020-01-01</th>\n",
       "      <td>-1.599227</td>\n",
       "      <td>-3.954682</td>\n",
       "      <td>-1.935948</td>\n",
       "      <td>-2.358089</td>\n",
       "    </tr>\n",
       "    <tr>\n",
       "      <th>2020-01-02</th>\n",
       "      <td>0.655268</td>\n",
       "      <td>-0.913605</td>\n",
       "      <td>1.131768</td>\n",
       "      <td>0.688690</td>\n",
       "    </tr>\n",
       "    <tr>\n",
       "      <th>2020-01-03</th>\n",
       "      <td>1.174306</td>\n",
       "      <td>-1.645058</td>\n",
       "      <td>-2.267937</td>\n",
       "      <td>0.263099</td>\n",
       "    </tr>\n",
       "    <tr>\n",
       "      <th>2020-01-04</th>\n",
       "      <td>-0.043774</td>\n",
       "      <td>-0.174847</td>\n",
       "      <td>0.831408</td>\n",
       "      <td>0.414425</td>\n",
       "    </tr>\n",
       "    <tr>\n",
       "      <th>2020-01-05</th>\n",
       "      <td>-0.049230</td>\n",
       "      <td>0.622479</td>\n",
       "      <td>-1.367243</td>\n",
       "      <td>-0.000274</td>\n",
       "    </tr>\n",
       "  </tbody>\n",
       "</table>\n",
       "</div>"
      ],
      "text/plain": [
       "                   A         B         C         D\n",
       "2020-01-01 -1.599227 -3.954682 -1.935948 -2.358089\n",
       "2020-01-02  0.655268 -0.913605  1.131768  0.688690\n",
       "2020-01-03  1.174306 -1.645058 -2.267937  0.263099\n",
       "2020-01-04 -0.043774 -0.174847  0.831408  0.414425\n",
       "2020-01-05 -0.049230  0.622479 -1.367243 -0.000274"
      ]
     },
     "execution_count": 28,
     "metadata": {},
     "output_type": "execute_result"
    }
   ],
   "source": [
    "#Visualizando linhas superior e inferior\n",
    "df.head()"
   ]
  },
  {
   "cell_type": "code",
   "execution_count": 29,
   "metadata": {},
   "outputs": [
    {
     "data": {
      "text/html": [
       "<div>\n",
       "<style scoped>\n",
       "    .dataframe tbody tr th:only-of-type {\n",
       "        vertical-align: middle;\n",
       "    }\n",
       "\n",
       "    .dataframe tbody tr th {\n",
       "        vertical-align: top;\n",
       "    }\n",
       "\n",
       "    .dataframe thead th {\n",
       "        text-align: right;\n",
       "    }\n",
       "</style>\n",
       "<table border=\"1\" class=\"dataframe\">\n",
       "  <thead>\n",
       "    <tr style=\"text-align: right;\">\n",
       "      <th></th>\n",
       "      <th>A</th>\n",
       "      <th>B</th>\n",
       "      <th>C</th>\n",
       "      <th>D</th>\n",
       "    </tr>\n",
       "  </thead>\n",
       "  <tbody>\n",
       "    <tr>\n",
       "      <th>2020-01-05</th>\n",
       "      <td>-0.049230</td>\n",
       "      <td>0.622479</td>\n",
       "      <td>-1.367243</td>\n",
       "      <td>-0.000274</td>\n",
       "    </tr>\n",
       "    <tr>\n",
       "      <th>2020-01-06</th>\n",
       "      <td>0.723707</td>\n",
       "      <td>2.657475</td>\n",
       "      <td>-0.305881</td>\n",
       "      <td>-0.460423</td>\n",
       "    </tr>\n",
       "  </tbody>\n",
       "</table>\n",
       "</div>"
      ],
      "text/plain": [
       "                   A         B         C         D\n",
       "2020-01-05 -0.049230  0.622479 -1.367243 -0.000274\n",
       "2020-01-06  0.723707  2.657475 -0.305881 -0.460423"
      ]
     },
     "execution_count": 29,
     "metadata": {},
     "output_type": "execute_result"
    }
   ],
   "source": [
    "df.tail(2)"
   ]
  },
  {
   "cell_type": "code",
   "execution_count": 30,
   "metadata": {},
   "outputs": [
    {
     "data": {
      "text/plain": [
       "DatetimeIndex(['2020-01-01', '2020-01-02', '2020-01-03', '2020-01-04',\n",
       "               '2020-01-05', '2020-01-06'],\n",
       "              dtype='datetime64[ns]', freq='D')"
      ]
     },
     "execution_count": 30,
     "metadata": {},
     "output_type": "execute_result"
    }
   ],
   "source": [
    "#Exibindo índice - colunas\n",
    "df.index"
   ]
  },
  {
   "cell_type": "code",
   "execution_count": 31,
   "metadata": {},
   "outputs": [
    {
     "data": {
      "text/plain": [
       "Index(['A', 'B', 'C', 'D'], dtype='object')"
      ]
     },
     "execution_count": 31,
     "metadata": {},
     "output_type": "execute_result"
    }
   ],
   "source": [
    "df.columns"
   ]
  },
  {
   "cell_type": "code",
   "execution_count": 16,
   "metadata": {},
   "outputs": [],
   "source": [
    "#DataFrame.to_numpy()fornece uma representação NumPy dos dados subjacentes\n",
    "#A uma diferença fundamental entre os pandas e o NumPy: os arrays NumPy têm um tipo de tipo para toda a matriz,\n",
    "#enquanto os DataFrames do pandas têm um tipo de coluna por coluna.\n",
    "#Ligando o DataFrame.to_numpy(), os pandas encontrarão o tipo NumPy que pode conter todos os tipos no DataFrame,\n",
    "#isso pode acabar sendo object, o que exige a conversão de todo valor em um objeto Python."
   ]
  },
  {
   "cell_type": "code",
   "execution_count": 32,
   "metadata": {},
   "outputs": [
    {
     "data": {
      "text/plain": [
       "array([[-1.59922733e+00, -3.95468207e+00, -1.93594778e+00,\n",
       "        -2.35808921e+00],\n",
       "       [ 6.55268331e-01, -9.13605432e-01,  1.13176793e+00,\n",
       "         6.88689981e-01],\n",
       "       [ 1.17430624e+00, -1.64505760e+00, -2.26793734e+00,\n",
       "         2.63098602e-01],\n",
       "       [-4.37738436e-02, -1.74846529e-01,  8.31408286e-01,\n",
       "         4.14425304e-01],\n",
       "       [-4.92300835e-02,  6.22478669e-01, -1.36724291e+00,\n",
       "        -2.73776199e-04],\n",
       "       [ 7.23706990e-01,  2.65747511e+00, -3.05881399e-01,\n",
       "        -4.60422854e-01]])"
      ]
     },
     "execution_count": 32,
     "metadata": {},
     "output_type": "execute_result"
    }
   ],
   "source": [
    "#Lembrando que dataframe.to_numpy sao rápidos e não requerem cópia de dados\n",
    "df.to_numpy()"
   ]
  },
  {
   "cell_type": "code",
   "execution_count": 33,
   "metadata": {},
   "outputs": [
    {
     "data": {
      "text/plain": [
       "array([[1.0, Timestamp('2020-01-02 00:00:00'), 1.0, 3, 'test', 'foo'],\n",
       "       [1.0, Timestamp('2020-01-02 00:00:00'), 1.0, 3, 'train', 'foo'],\n",
       "       [1.0, Timestamp('2020-01-02 00:00:00'), 1.0, 3, 'test', 'foo'],\n",
       "       [1.0, Timestamp('2020-01-02 00:00:00'), 1.0, 3, 'train', 'foo']],\n",
       "      dtype=object)"
      ]
     },
     "execution_count": 33,
     "metadata": {},
     "output_type": "execute_result"
    }
   ],
   "source": [
    "df2.to_numpy()"
   ]
  },
  {
   "cell_type": "code",
   "execution_count": 35,
   "metadata": {},
   "outputs": [
    {
     "data": {
      "text/html": [
       "<div>\n",
       "<style scoped>\n",
       "    .dataframe tbody tr th:only-of-type {\n",
       "        vertical-align: middle;\n",
       "    }\n",
       "\n",
       "    .dataframe tbody tr th {\n",
       "        vertical-align: top;\n",
       "    }\n",
       "\n",
       "    .dataframe thead th {\n",
       "        text-align: right;\n",
       "    }\n",
       "</style>\n",
       "<table border=\"1\" class=\"dataframe\">\n",
       "  <thead>\n",
       "    <tr style=\"text-align: right;\">\n",
       "      <th></th>\n",
       "      <th>A</th>\n",
       "      <th>B</th>\n",
       "      <th>C</th>\n",
       "      <th>D</th>\n",
       "    </tr>\n",
       "  </thead>\n",
       "  <tbody>\n",
       "    <tr>\n",
       "      <th>count</th>\n",
       "      <td>6.000000</td>\n",
       "      <td>6.000000</td>\n",
       "      <td>6.000000</td>\n",
       "      <td>6.000000</td>\n",
       "    </tr>\n",
       "    <tr>\n",
       "      <th>mean</th>\n",
       "      <td>0.143508</td>\n",
       "      <td>-0.568040</td>\n",
       "      <td>-0.652306</td>\n",
       "      <td>-0.242095</td>\n",
       "    </tr>\n",
       "    <tr>\n",
       "      <th>std</th>\n",
       "      <td>0.976773</td>\n",
       "      <td>2.223718</td>\n",
       "      <td>1.433421</td>\n",
       "      <td>1.107806</td>\n",
       "    </tr>\n",
       "    <tr>\n",
       "      <th>min</th>\n",
       "      <td>-1.599227</td>\n",
       "      <td>-3.954682</td>\n",
       "      <td>-2.267937</td>\n",
       "      <td>-2.358089</td>\n",
       "    </tr>\n",
       "    <tr>\n",
       "      <th>25%</th>\n",
       "      <td>-0.047866</td>\n",
       "      <td>-1.462195</td>\n",
       "      <td>-1.793772</td>\n",
       "      <td>-0.345386</td>\n",
       "    </tr>\n",
       "    <tr>\n",
       "      <th>50%</th>\n",
       "      <td>0.305747</td>\n",
       "      <td>-0.544226</td>\n",
       "      <td>-0.836562</td>\n",
       "      <td>0.131412</td>\n",
       "    </tr>\n",
       "    <tr>\n",
       "      <th>75%</th>\n",
       "      <td>0.706597</td>\n",
       "      <td>0.423147</td>\n",
       "      <td>0.547086</td>\n",
       "      <td>0.376594</td>\n",
       "    </tr>\n",
       "    <tr>\n",
       "      <th>max</th>\n",
       "      <td>1.174306</td>\n",
       "      <td>2.657475</td>\n",
       "      <td>1.131768</td>\n",
       "      <td>0.688690</td>\n",
       "    </tr>\n",
       "  </tbody>\n",
       "</table>\n",
       "</div>"
      ],
      "text/plain": [
       "              A         B         C         D\n",
       "count  6.000000  6.000000  6.000000  6.000000\n",
       "mean   0.143508 -0.568040 -0.652306 -0.242095\n",
       "std    0.976773  2.223718  1.433421  1.107806\n",
       "min   -1.599227 -3.954682 -2.267937 -2.358089\n",
       "25%   -0.047866 -1.462195 -1.793772 -0.345386\n",
       "50%    0.305747 -0.544226 -0.836562  0.131412\n",
       "75%    0.706597  0.423147  0.547086  0.376594\n",
       "max    1.174306  2.657475  1.131768  0.688690"
      ]
     },
     "execution_count": 35,
     "metadata": {},
     "output_type": "execute_result"
    }
   ],
   "source": [
    "#DESCRIBE - mostra um resumo estatístico dos seus dados\n",
    "df.describe()"
   ]
  },
  {
   "cell_type": "code",
   "execution_count": 36,
   "metadata": {},
   "outputs": [
    {
     "data": {
      "text/html": [
       "<div>\n",
       "<style scoped>\n",
       "    .dataframe tbody tr th:only-of-type {\n",
       "        vertical-align: middle;\n",
       "    }\n",
       "\n",
       "    .dataframe tbody tr th {\n",
       "        vertical-align: top;\n",
       "    }\n",
       "\n",
       "    .dataframe thead th {\n",
       "        text-align: right;\n",
       "    }\n",
       "</style>\n",
       "<table border=\"1\" class=\"dataframe\">\n",
       "  <thead>\n",
       "    <tr style=\"text-align: right;\">\n",
       "      <th></th>\n",
       "      <th>D</th>\n",
       "      <th>C</th>\n",
       "      <th>B</th>\n",
       "      <th>A</th>\n",
       "    </tr>\n",
       "  </thead>\n",
       "  <tbody>\n",
       "    <tr>\n",
       "      <th>2020-01-01</th>\n",
       "      <td>-2.358089</td>\n",
       "      <td>-1.935948</td>\n",
       "      <td>-3.954682</td>\n",
       "      <td>-1.599227</td>\n",
       "    </tr>\n",
       "    <tr>\n",
       "      <th>2020-01-02</th>\n",
       "      <td>0.688690</td>\n",
       "      <td>1.131768</td>\n",
       "      <td>-0.913605</td>\n",
       "      <td>0.655268</td>\n",
       "    </tr>\n",
       "    <tr>\n",
       "      <th>2020-01-03</th>\n",
       "      <td>0.263099</td>\n",
       "      <td>-2.267937</td>\n",
       "      <td>-1.645058</td>\n",
       "      <td>1.174306</td>\n",
       "    </tr>\n",
       "    <tr>\n",
       "      <th>2020-01-04</th>\n",
       "      <td>0.414425</td>\n",
       "      <td>0.831408</td>\n",
       "      <td>-0.174847</td>\n",
       "      <td>-0.043774</td>\n",
       "    </tr>\n",
       "    <tr>\n",
       "      <th>2020-01-05</th>\n",
       "      <td>-0.000274</td>\n",
       "      <td>-1.367243</td>\n",
       "      <td>0.622479</td>\n",
       "      <td>-0.049230</td>\n",
       "    </tr>\n",
       "    <tr>\n",
       "      <th>2020-01-06</th>\n",
       "      <td>-0.460423</td>\n",
       "      <td>-0.305881</td>\n",
       "      <td>2.657475</td>\n",
       "      <td>0.723707</td>\n",
       "    </tr>\n",
       "  </tbody>\n",
       "</table>\n",
       "</div>"
      ],
      "text/plain": [
       "                   D         C         B         A\n",
       "2020-01-01 -2.358089 -1.935948 -3.954682 -1.599227\n",
       "2020-01-02  0.688690  1.131768 -0.913605  0.655268\n",
       "2020-01-03  0.263099 -2.267937 -1.645058  1.174306\n",
       "2020-01-04  0.414425  0.831408 -0.174847 -0.043774\n",
       "2020-01-05 -0.000274 -1.367243  0.622479 -0.049230\n",
       "2020-01-06 -0.460423 -0.305881  2.657475  0.723707"
      ]
     },
     "execution_count": 36,
     "metadata": {},
     "output_type": "execute_result"
    }
   ],
   "source": [
    "#Classificando por Eixo\n",
    "df.sort_index(axis=1, ascending=False)"
   ]
  },
  {
   "cell_type": "code",
   "execution_count": 37,
   "metadata": {},
   "outputs": [
    {
     "data": {
      "text/html": [
       "<div>\n",
       "<style scoped>\n",
       "    .dataframe tbody tr th:only-of-type {\n",
       "        vertical-align: middle;\n",
       "    }\n",
       "\n",
       "    .dataframe tbody tr th {\n",
       "        vertical-align: top;\n",
       "    }\n",
       "\n",
       "    .dataframe thead th {\n",
       "        text-align: right;\n",
       "    }\n",
       "</style>\n",
       "<table border=\"1\" class=\"dataframe\">\n",
       "  <thead>\n",
       "    <tr style=\"text-align: right;\">\n",
       "      <th></th>\n",
       "      <th>A</th>\n",
       "      <th>B</th>\n",
       "      <th>C</th>\n",
       "      <th>D</th>\n",
       "    </tr>\n",
       "  </thead>\n",
       "  <tbody>\n",
       "    <tr>\n",
       "      <th>2020-01-03</th>\n",
       "      <td>1.174306</td>\n",
       "      <td>-1.645058</td>\n",
       "      <td>-2.267937</td>\n",
       "      <td>0.263099</td>\n",
       "    </tr>\n",
       "    <tr>\n",
       "      <th>2020-01-01</th>\n",
       "      <td>-1.599227</td>\n",
       "      <td>-3.954682</td>\n",
       "      <td>-1.935948</td>\n",
       "      <td>-2.358089</td>\n",
       "    </tr>\n",
       "    <tr>\n",
       "      <th>2020-01-05</th>\n",
       "      <td>-0.049230</td>\n",
       "      <td>0.622479</td>\n",
       "      <td>-1.367243</td>\n",
       "      <td>-0.000274</td>\n",
       "    </tr>\n",
       "    <tr>\n",
       "      <th>2020-01-06</th>\n",
       "      <td>0.723707</td>\n",
       "      <td>2.657475</td>\n",
       "      <td>-0.305881</td>\n",
       "      <td>-0.460423</td>\n",
       "    </tr>\n",
       "    <tr>\n",
       "      <th>2020-01-04</th>\n",
       "      <td>-0.043774</td>\n",
       "      <td>-0.174847</td>\n",
       "      <td>0.831408</td>\n",
       "      <td>0.414425</td>\n",
       "    </tr>\n",
       "    <tr>\n",
       "      <th>2020-01-02</th>\n",
       "      <td>0.655268</td>\n",
       "      <td>-0.913605</td>\n",
       "      <td>1.131768</td>\n",
       "      <td>0.688690</td>\n",
       "    </tr>\n",
       "  </tbody>\n",
       "</table>\n",
       "</div>"
      ],
      "text/plain": [
       "                   A         B         C         D\n",
       "2020-01-03  1.174306 -1.645058 -2.267937  0.263099\n",
       "2020-01-01 -1.599227 -3.954682 -1.935948 -2.358089\n",
       "2020-01-05 -0.049230  0.622479 -1.367243 -0.000274\n",
       "2020-01-06  0.723707  2.657475 -0.305881 -0.460423\n",
       "2020-01-04 -0.043774 -0.174847  0.831408  0.414425\n",
       "2020-01-02  0.655268 -0.913605  1.131768  0.688690"
      ]
     },
     "execution_count": 37,
     "metadata": {},
     "output_type": "execute_result"
    }
   ],
   "source": [
    "#agora por valores\n",
    "df.sort_values(by='C')"
   ]
  }
 ],
 "metadata": {
  "kernelspec": {
   "display_name": "Python 3",
   "language": "python",
   "name": "python3"
  },
  "language_info": {
   "codemirror_mode": {
    "name": "ipython",
    "version": 3
   },
   "file_extension": ".py",
   "mimetype": "text/x-python",
   "name": "python",
   "nbconvert_exporter": "python",
   "pygments_lexer": "ipython3",
   "version": "3.6.10"
  }
 },
 "nbformat": 4,
 "nbformat_minor": 4
}
